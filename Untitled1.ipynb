{
  "nbformat": 4,
  "nbformat_minor": 0,
  "metadata": {
    "colab": {
      "provenance": [],
      "authorship_tag": "ABX9TyNd1SEcGN4MCFZu1zZ7O9P0",
      "include_colab_link": true
    },
    "kernelspec": {
      "name": "python3",
      "display_name": "Python 3"
    },
    "language_info": {
      "name": "python"
    }
  },
  "cells": [
    {
      "cell_type": "markdown",
      "metadata": {
        "id": "view-in-github",
        "colab_type": "text"
      },
      "source": [
        "<a href=\"https://colab.research.google.com/github/fjwoewop/Hackthon_project/blob/main/Untitled1.ipynb\" target=\"_parent\"><img src=\"https://colab.research.google.com/assets/colab-badge.svg\" alt=\"Open In Colab\"/></a>"
      ]
    },
    {
      "cell_type": "code",
      "execution_count": 1,
      "metadata": {
        "colab": {
          "base_uri": "https://localhost:8080/"
        },
        "id": "Dt5ppCL5wug0",
        "outputId": "35ad99b3-c262-4ef5-9911-185258ef6c93"
      },
      "outputs": [
        {
          "output_type": "stream",
          "name": "stdout",
          "text": [
            "Hello world\n"
          ]
        }
      ],
      "source": [
        "print(\"Hello world\")"
      ]
    },
    {
      "cell_type": "code",
      "source": [
        "a = int(3.7)     # Converts float to int (truncates decimal part)\n",
        "b = int(\"25\")    # Converts string to int\n",
        "c = int(True)    # Converts boolean to int (True → 1, False → 0)\n",
        "\n",
        "print(a, b, c)  # Output: 3 25 1"
      ],
      "metadata": {
        "colab": {
          "base_uri": "https://localhost:8080/"
        },
        "id": "YcPOd848w4Vt",
        "outputId": "242ef339-7d2c-4bd2-c6e7-51ec9a53b6e8"
      },
      "execution_count": 2,
      "outputs": [
        {
          "output_type": "stream",
          "name": "stdout",
          "text": [
            "3 25 1\n"
          ]
        }
      ]
    },
    {
      "cell_type": "code",
      "source": [
        "name = \"Alice\"\n",
        "greeting = \"Hello, \" + name + \"!\"\n",
        "print(greeting)\n"
      ],
      "metadata": {
        "colab": {
          "base_uri": "https://localhost:8080/"
        },
        "id": "M5qrJTduxaon",
        "outputId": "defb507c-b1a9-4969-e4d7-cb384ce43ddf"
      },
      "execution_count": 3,
      "outputs": [
        {
          "output_type": "stream",
          "name": "stdout",
          "text": [
            "Hello, Alice!\n"
          ]
        }
      ]
    },
    {
      "cell_type": "code",
      "source": [
        "pi = 3.14\n",
        "print(pi)        # Output: 3.14\n",
        "print(type(pi))  # Output: <class 'float'>\n"
      ],
      "metadata": {
        "colab": {
          "base_uri": "https://localhost:8080/"
        },
        "id": "XxR6aorVxmg3",
        "outputId": "a118ab91-b1cc-44e3-a597-b89a97deb7a1"
      },
      "execution_count": 4,
      "outputs": [
        {
          "output_type": "stream",
          "name": "stdout",
          "text": [
            "3.14\n",
            "<class 'float'>\n"
          ]
        }
      ]
    },
    {
      "cell_type": "code",
      "source": [
        "is_python_easy = True\n",
        "print(is_python_easy)        # Output: True\n",
        "print(type(is_python_easy))  # Output: <class 'bool'>\n"
      ],
      "metadata": {
        "colab": {
          "base_uri": "https://localhost:8080/"
        },
        "id": "Ra60IvqAxo4Z",
        "outputId": "1fa8a299-daba-4910-e04c-42a7ccdc776c"
      },
      "execution_count": 5,
      "outputs": [
        {
          "output_type": "stream",
          "name": "stdout",
          "text": [
            "True\n",
            "<class 'bool'>\n"
          ]
        }
      ]
    },
    {
      "cell_type": "code",
      "source": [
        "name = \"Alice\"\n",
        "age = 25\n",
        "print(f\"My name is {name} and I am {age} years old.\")\n"
      ],
      "metadata": {
        "colab": {
          "base_uri": "https://localhost:8080/"
        },
        "id": "IjK_Aa-LxtbH",
        "outputId": "1d4244f2-c7a0-45c3-da5f-95cc4293b4bb"
      },
      "execution_count": 6,
      "outputs": [
        {
          "output_type": "stream",
          "name": "stdout",
          "text": [
            "My name is Alice and I am 25 years old.\n"
          ]
        }
      ]
    },
    {
      "cell_type": "code",
      "source": [
        "def greet():\n",
        "    \"\"\"This function prints a greeting message.\"\"\"\n",
        "    print(\"Hello, World!\")\n",
        "\n",
        "greet()\n"
      ],
      "metadata": {
        "colab": {
          "base_uri": "https://localhost:8080/"
        },
        "id": "qM3sh_ExxxmL",
        "outputId": "7969d6ed-ce4f-4514-bf4e-4bf63c3b87a6"
      },
      "execution_count": 7,
      "outputs": [
        {
          "output_type": "stream",
          "name": "stdout",
          "text": [
            "Hello, World!\n"
          ]
        }
      ]
    },
    {
      "cell_type": "code",
      "source": [
        "x = 10\n",
        "print(id(x))  # Output: Unique memory address of x\n"
      ],
      "metadata": {
        "colab": {
          "base_uri": "https://localhost:8080/"
        },
        "id": "lsL0LMIxx1Dv",
        "outputId": "b2071ace-6427-4e0a-de49-a3235a2aa1b6"
      },
      "execution_count": 8,
      "outputs": [
        {
          "output_type": "stream",
          "name": "stdout",
          "text": [
            "10751144\n"
          ]
        }
      ]
    },
    {
      "cell_type": "code",
      "source": [
        "y = 10.5\n",
        "print(type(y))  # Output: <class 'float'>\n"
      ],
      "metadata": {
        "colab": {
          "base_uri": "https://localhost:8080/"
        },
        "id": "oGYNpBBOx4en",
        "outputId": "31ee74f0-18f9-4fad-be74-07a001a7bcb6"
      },
      "execution_count": 9,
      "outputs": [
        {
          "output_type": "stream",
          "name": "stdout",
          "text": [
            "<class 'float'>\n"
          ]
        }
      ]
    },
    {
      "cell_type": "code",
      "source": [
        "a = 10\n",
        "b = 3\n",
        "\n",
        "print(a + b)   # Addition → 13\n",
        "print(a - b)   # Subtraction → 7\n",
        "print(a * b)   # Multiplication → 30\n",
        "print(a / b)   # Division → 3.3333\n",
        "print(a % b)   # Modulus (Remainder) → 1\n",
        "print(a // b)  # Floor Division → 3\n",
        "print(a ** b)  # Exponentiation (Power) → 1000\n"
      ],
      "metadata": {
        "colab": {
          "base_uri": "https://localhost:8080/"
        },
        "id": "_EvxzqtIyHTx",
        "outputId": "4bbfce29-5a74-409c-c486-d5ccfd5a0114"
      },
      "execution_count": 10,
      "outputs": [
        {
          "output_type": "stream",
          "name": "stdout",
          "text": [
            "13\n",
            "7\n",
            "30\n",
            "3.3333333333333335\n",
            "1\n",
            "3\n",
            "1000\n"
          ]
        }
      ]
    },
    {
      "cell_type": "code",
      "source": [
        "x = 5\n",
        "y = 10\n",
        "\n",
        "print(x == y)  # False (Equal to)\n",
        "print(x != y)  # True  (Not equal to)\n",
        "print(x > y)   # False (Greater than)\n",
        "print(x < y)   # True  (Less than)\n",
        "print(x >= y)  # False (Greater than or equal)\n",
        "print(x <= y)  # True  (Less than or equal)\n"
      ],
      "metadata": {
        "colab": {
          "base_uri": "https://localhost:8080/"
        },
        "id": "IQSw6mcKyMe5",
        "outputId": "10e58903-d544-484e-8db2-60c53af09da0"
      },
      "execution_count": 11,
      "outputs": [
        {
          "output_type": "stream",
          "name": "stdout",
          "text": [
            "False\n",
            "True\n",
            "False\n",
            "True\n",
            "False\n",
            "True\n"
          ]
        }
      ]
    },
    {
      "cell_type": "code",
      "source": [
        "a = True\n",
        "b = False\n",
        "\n",
        "print(a and b)  # False (Both must be True)\n",
        "print(a or b)   # True (At least one is True)\n",
        "print(not a)    # False (Negation)\n"
      ],
      "metadata": {
        "colab": {
          "base_uri": "https://localhost:8080/"
        },
        "id": "NEnkSrhyyRx3",
        "outputId": "57fde197-05fe-4c20-b9e8-fe86d4ecdce3"
      },
      "execution_count": 12,
      "outputs": [
        {
          "output_type": "stream",
          "name": "stdout",
          "text": [
            "False\n",
            "True\n",
            "False\n"
          ]
        }
      ]
    },
    {
      "cell_type": "code",
      "source": [
        "x = 5\n",
        "x += 3  # Same as x = x + 3\n",
        "print(x)  # Output: 8\n",
        "\n",
        "x *= 2  # Same as x = x * 2\n",
        "print(x)  # Output: 16\n"
      ],
      "metadata": {
        "colab": {
          "base_uri": "https://localhost:8080/"
        },
        "id": "IIZ9QwKNyVrs",
        "outputId": "fab62412-4a2a-4494-d27e-5afb7fddeae6"
      },
      "execution_count": 13,
      "outputs": [
        {
          "output_type": "stream",
          "name": "stdout",
          "text": [
            "8\n",
            "16\n"
          ]
        }
      ]
    }
  ]
}